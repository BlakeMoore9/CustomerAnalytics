{
 "cells": [
  {
   "cell_type": "markdown",
   "metadata": {},
   "source": [
    "# Data Exploration"
   ]
  },
  {
   "cell_type": "code",
   "execution_count": 1,
   "metadata": {},
   "outputs": [],
   "source": [
    "import os\n",
    "import pandas as pd\n",
    "import matplotlib.pyplot as plt"
   ]
  },
  {
   "cell_type": "code",
   "execution_count": 2,
   "metadata": {},
   "outputs": [],
   "source": [
    "os.chdir(r'D:\\Data\\Projects\\Business Analytics\\E-Commerce Data')\n",
    "pd.set_option('display.float_format', lambda x: '%.3f' % x)"
   ]
  },
  {
   "cell_type": "code",
   "execution_count": 3,
   "metadata": {},
   "outputs": [],
   "source": [
    "from warnings import filterwarnings\n",
    "filterwarnings('ignore')"
   ]
  },
  {
   "cell_type": "code",
   "execution_count": 4,
   "metadata": {
    "scrolled": true
   },
   "outputs": [
    {
     "name": "stdout",
     "output_type": "stream",
     "text": [
      "(401604, 8)\n"
     ]
    },
    {
     "data": {
      "text/html": [
       "<div>\n",
       "<style scoped>\n",
       "    .dataframe tbody tr th:only-of-type {\n",
       "        vertical-align: middle;\n",
       "    }\n",
       "\n",
       "    .dataframe tbody tr th {\n",
       "        vertical-align: top;\n",
       "    }\n",
       "\n",
       "    .dataframe thead th {\n",
       "        text-align: right;\n",
       "    }\n",
       "</style>\n",
       "<table border=\"1\" class=\"dataframe\">\n",
       "  <thead>\n",
       "    <tr style=\"text-align: right;\">\n",
       "      <th></th>\n",
       "      <th>InvoiceNo</th>\n",
       "      <th>StockCode</th>\n",
       "      <th>Description</th>\n",
       "      <th>Quantity</th>\n",
       "      <th>InvoiceDate</th>\n",
       "      <th>UnitPrice</th>\n",
       "      <th>CustomerID</th>\n",
       "      <th>Country</th>\n",
       "    </tr>\n",
       "  </thead>\n",
       "  <tbody>\n",
       "    <tr>\n",
       "      <td>0</td>\n",
       "      <td>536365</td>\n",
       "      <td>85123A</td>\n",
       "      <td>WHITE HANGING HEART T-LIGHT HOLDER</td>\n",
       "      <td>6</td>\n",
       "      <td>2010-12-01 08:26:00</td>\n",
       "      <td>2.550</td>\n",
       "      <td>17850</td>\n",
       "      <td>United Kingdom</td>\n",
       "    </tr>\n",
       "    <tr>\n",
       "      <td>1</td>\n",
       "      <td>536365</td>\n",
       "      <td>71053</td>\n",
       "      <td>WHITE METAL LANTERN</td>\n",
       "      <td>6</td>\n",
       "      <td>2010-12-01 08:26:00</td>\n",
       "      <td>3.390</td>\n",
       "      <td>17850</td>\n",
       "      <td>United Kingdom</td>\n",
       "    </tr>\n",
       "    <tr>\n",
       "      <td>2</td>\n",
       "      <td>536365</td>\n",
       "      <td>84406B</td>\n",
       "      <td>CREAM CUPID HEARTS COAT HANGER</td>\n",
       "      <td>8</td>\n",
       "      <td>2010-12-01 08:26:00</td>\n",
       "      <td>2.750</td>\n",
       "      <td>17850</td>\n",
       "      <td>United Kingdom</td>\n",
       "    </tr>\n",
       "    <tr>\n",
       "      <td>3</td>\n",
       "      <td>536365</td>\n",
       "      <td>84029G</td>\n",
       "      <td>KNITTED UNION FLAG HOT WATER BOTTLE</td>\n",
       "      <td>6</td>\n",
       "      <td>2010-12-01 08:26:00</td>\n",
       "      <td>3.390</td>\n",
       "      <td>17850</td>\n",
       "      <td>United Kingdom</td>\n",
       "    </tr>\n",
       "    <tr>\n",
       "      <td>4</td>\n",
       "      <td>536365</td>\n",
       "      <td>84029E</td>\n",
       "      <td>RED WOOLLY HOTTIE WHITE HEART.</td>\n",
       "      <td>6</td>\n",
       "      <td>2010-12-01 08:26:00</td>\n",
       "      <td>3.390</td>\n",
       "      <td>17850</td>\n",
       "      <td>United Kingdom</td>\n",
       "    </tr>\n",
       "  </tbody>\n",
       "</table>\n",
       "</div>"
      ],
      "text/plain": [
       "  InvoiceNo StockCode                          Description  Quantity  \\\n",
       "0    536365    85123A   WHITE HANGING HEART T-LIGHT HOLDER         6   \n",
       "1    536365     71053                  WHITE METAL LANTERN         6   \n",
       "2    536365    84406B       CREAM CUPID HEARTS COAT HANGER         8   \n",
       "3    536365    84029G  KNITTED UNION FLAG HOT WATER BOTTLE         6   \n",
       "4    536365    84029E       RED WOOLLY HOTTIE WHITE HEART.         6   \n",
       "\n",
       "          InvoiceDate  UnitPrice  CustomerID         Country  \n",
       "0 2010-12-01 08:26:00      2.550       17850  United Kingdom  \n",
       "1 2010-12-01 08:26:00      3.390       17850  United Kingdom  \n",
       "2 2010-12-01 08:26:00      2.750       17850  United Kingdom  \n",
       "3 2010-12-01 08:26:00      3.390       17850  United Kingdom  \n",
       "4 2010-12-01 08:26:00      3.390       17850  United Kingdom  "
      ]
     },
     "execution_count": 4,
     "metadata": {},
     "output_type": "execute_result"
    }
   ],
   "source": [
    "df = pd.read_csv('dfclean.csv', parse_dates=['InvoiceDate'])\n",
    "print(df.shape)\n",
    "df.head()"
   ]
  },
  {
   "cell_type": "markdown",
   "metadata": {},
   "source": [
    "### Timeframe"
   ]
  },
  {
   "cell_type": "code",
   "execution_count": 5,
   "metadata": {},
   "outputs": [
    {
     "data": {
      "text/plain": [
       "(Timestamp('2010-12-01 08:26:00'), Timestamp('2011-12-09 12:50:00'))"
      ]
     },
     "execution_count": 5,
     "metadata": {},
     "output_type": "execute_result"
    }
   ],
   "source": [
    "df.InvoiceDate.min(), df.InvoiceDate.max()"
   ]
  },
  {
   "cell_type": "code",
   "execution_count": 6,
   "metadata": {
    "scrolled": true
   },
   "outputs": [
    {
     "data": {
      "text/plain": [
       "12    72213\n",
       "13    64051\n",
       "14    54194\n",
       "11    49525\n",
       "15    45641\n",
       "10    38725\n",
       "16    24618\n",
       "9     22446\n",
       "17    13604\n",
       "8      8789\n",
       "19     3423\n",
       "18     3104\n",
       "20      847\n",
       "7       383\n",
       "6        41\n",
       "Name: InvoiceDate, dtype: int64"
      ]
     },
     "execution_count": 6,
     "metadata": {},
     "output_type": "execute_result"
    }
   ],
   "source": [
    "# Order by time of day\n",
    "df.InvoiceDate.dt.hour.value_counts()"
   ]
  },
  {
   "cell_type": "code",
   "execution_count": 7,
   "metadata": {
    "scrolled": true
   },
   "outputs": [
    {
     "data": {
      "image/png": "[encoded data removed]",
      "text/plain": [
       "<Figure size 432x288 with 1 Axes>"
      ]
     },
     "metadata": {
      "needs_background": "light"
     },
     "output_type": "display_data"
    }
   ],
   "source": [
    "df.InvoiceDate.dt.hour.value_counts().sort_index().plot(kind='bar');"
   ]
  },
  {
   "cell_type": "markdown",
   "metadata": {},
   "source": [
    "### Orders"
   ]
  },
  {
   "cell_type": "code",
   "execution_count": 8,
   "metadata": {
    "scrolled": true
   },
   "outputs": [],
   "source": [
    "# Invoice\n",
    "df['Invoice'] = df.UnitPrice * df.Quantity"
   ]
  },
  {
   "cell_type": "code",
   "execution_count": 9,
   "metadata": {},
   "outputs": [
    {
     "data": {
      "text/plain": [
       "22190"
      ]
     },
     "execution_count": 9,
     "metadata": {},
     "output_type": "execute_result"
    }
   ],
   "source": [
    "df.groupby('Country').InvoiceNo.nunique().sum()"
   ]
  },
  {
   "cell_type": "code",
   "execution_count": 10,
   "metadata": {
    "scrolled": false
   },
   "outputs": [
    {
     "data": {
      "text/plain": [
       "InvoiceNo\n",
       "576339    542\n",
       "579196    533\n",
       "580727    529\n",
       "578270    442\n",
       "573576    435\n",
       "567656    421\n",
       "567183    392\n",
       "575607    377\n",
       "571441    364\n",
       "570488    353\n",
       "dtype: int64"
      ]
     },
     "execution_count": 10,
     "metadata": {},
     "output_type": "execute_result"
    }
   ],
   "source": [
    "# Different products in one order\n",
    "df.groupby('InvoiceNo').size().sort_values(ascending=False).head(10)"
   ]
  },
  {
   "cell_type": "code",
   "execution_count": 11,
   "metadata": {},
   "outputs": [
    {
     "data": {
      "text/plain": [
       "18.098422712933754"
      ]
     },
     "execution_count": 11,
     "metadata": {},
     "output_type": "execute_result"
    }
   ],
   "source": [
    "df.groupby('InvoiceNo').size().mean()"
   ]
  },
  {
   "cell_type": "code",
   "execution_count": 12,
   "metadata": {
    "scrolled": true
   },
   "outputs": [
    {
     "data": {
      "text/plain": [
       "CustomerID\n",
       "14911    248\n",
       "12748    224\n",
       "17841    169\n",
       "14606    128\n",
       "13089    118\n",
       "15311    118\n",
       "12971     89\n",
       "14527     86\n",
       "13408     81\n",
       "14646     77\n",
       "Name: InvoiceNo, dtype: int64"
      ]
     },
     "execution_count": 12,
     "metadata": {},
     "output_type": "execute_result"
    }
   ],
   "source": [
    "# Orders per customer (including cancellations)\n",
    "df.groupby('CustomerID').InvoiceNo.nunique().\\\n",
    "sort_values(ascending=False).head(10)"
   ]
  },
  {
   "cell_type": "code",
   "execution_count": 13,
   "metadata": {
    "scrolled": true
   },
   "outputs": [
    {
     "data": {
      "text/html": [
       "<div>\n",
       "<style scoped>\n",
       "    .dataframe tbody tr th:only-of-type {\n",
       "        vertical-align: middle;\n",
       "    }\n",
       "\n",
       "    .dataframe tbody tr th {\n",
       "        vertical-align: top;\n",
       "    }\n",
       "\n",
       "    .dataframe thead th {\n",
       "        text-align: right;\n",
       "    }\n",
       "</style>\n",
       "<table border=\"1\" class=\"dataframe\">\n",
       "  <thead>\n",
       "    <tr style=\"text-align: right;\">\n",
       "      <th></th>\n",
       "      <th>InvoiceNo</th>\n",
       "      <th>StockCode</th>\n",
       "      <th>Description</th>\n",
       "      <th>Quantity</th>\n",
       "      <th>InvoiceDate</th>\n",
       "      <th>UnitPrice</th>\n",
       "      <th>CustomerID</th>\n",
       "      <th>Country</th>\n",
       "      <th>Invoice</th>\n",
       "    </tr>\n",
       "  </thead>\n",
       "  <tbody>\n",
       "    <tr>\n",
       "      <td>141</td>\n",
       "      <td>C536379</td>\n",
       "      <td>D</td>\n",
       "      <td>Discount</td>\n",
       "      <td>-1</td>\n",
       "      <td>2010-12-01 09:41:00</td>\n",
       "      <td>27.500</td>\n",
       "      <td>14527</td>\n",
       "      <td>United Kingdom</td>\n",
       "      <td>-27.500</td>\n",
       "    </tr>\n",
       "    <tr>\n",
       "      <td>154</td>\n",
       "      <td>C536383</td>\n",
       "      <td>35004C</td>\n",
       "      <td>SET OF 3 COLOURED  FLYING DUCKS</td>\n",
       "      <td>-1</td>\n",
       "      <td>2010-12-01 09:49:00</td>\n",
       "      <td>4.650</td>\n",
       "      <td>15311</td>\n",
       "      <td>United Kingdom</td>\n",
       "      <td>-4.650</td>\n",
       "    </tr>\n",
       "    <tr>\n",
       "      <td>235</td>\n",
       "      <td>C536391</td>\n",
       "      <td>22556</td>\n",
       "      <td>PLASTERS IN TIN CIRCUS PARADE</td>\n",
       "      <td>-12</td>\n",
       "      <td>2010-12-01 10:24:00</td>\n",
       "      <td>1.650</td>\n",
       "      <td>17548</td>\n",
       "      <td>United Kingdom</td>\n",
       "      <td>-19.800</td>\n",
       "    </tr>\n",
       "    <tr>\n",
       "      <td>236</td>\n",
       "      <td>C536391</td>\n",
       "      <td>21984</td>\n",
       "      <td>PACK OF 12 PINK PAISLEY TISSUES</td>\n",
       "      <td>-24</td>\n",
       "      <td>2010-12-01 10:24:00</td>\n",
       "      <td>0.290</td>\n",
       "      <td>17548</td>\n",
       "      <td>United Kingdom</td>\n",
       "      <td>-6.960</td>\n",
       "    </tr>\n",
       "    <tr>\n",
       "      <td>237</td>\n",
       "      <td>C536391</td>\n",
       "      <td>21983</td>\n",
       "      <td>PACK OF 12 BLUE PAISLEY TISSUES</td>\n",
       "      <td>-24</td>\n",
       "      <td>2010-12-01 10:24:00</td>\n",
       "      <td>0.290</td>\n",
       "      <td>17548</td>\n",
       "      <td>United Kingdom</td>\n",
       "      <td>-6.960</td>\n",
       "    </tr>\n",
       "    <tr>\n",
       "      <td>...</td>\n",
       "      <td>...</td>\n",
       "      <td>...</td>\n",
       "      <td>...</td>\n",
       "      <td>...</td>\n",
       "      <td>...</td>\n",
       "      <td>...</td>\n",
       "      <td>...</td>\n",
       "      <td>...</td>\n",
       "      <td>...</td>\n",
       "    </tr>\n",
       "    <tr>\n",
       "      <td>401159</td>\n",
       "      <td>C581490</td>\n",
       "      <td>23144</td>\n",
       "      <td>ZINC T-LIGHT HOLDER STARS SMALL</td>\n",
       "      <td>-11</td>\n",
       "      <td>2011-12-09 09:57:00</td>\n",
       "      <td>0.830</td>\n",
       "      <td>14397</td>\n",
       "      <td>United Kingdom</td>\n",
       "      <td>-9.130</td>\n",
       "    </tr>\n",
       "    <tr>\n",
       "      <td>401243</td>\n",
       "      <td>C581499</td>\n",
       "      <td>M</td>\n",
       "      <td>Manual</td>\n",
       "      <td>-1</td>\n",
       "      <td>2011-12-09 10:28:00</td>\n",
       "      <td>224.690</td>\n",
       "      <td>15498</td>\n",
       "      <td>United Kingdom</td>\n",
       "      <td>-224.690</td>\n",
       "    </tr>\n",
       "    <tr>\n",
       "      <td>401410</td>\n",
       "      <td>C581568</td>\n",
       "      <td>21258</td>\n",
       "      <td>VICTORIAN SEWING BOX LARGE</td>\n",
       "      <td>-5</td>\n",
       "      <td>2011-12-09 11:57:00</td>\n",
       "      <td>10.950</td>\n",
       "      <td>15311</td>\n",
       "      <td>United Kingdom</td>\n",
       "      <td>-54.750</td>\n",
       "    </tr>\n",
       "    <tr>\n",
       "      <td>401411</td>\n",
       "      <td>C581569</td>\n",
       "      <td>84978</td>\n",
       "      <td>HANGING HEART JAR T-LIGHT HOLDER</td>\n",
       "      <td>-1</td>\n",
       "      <td>2011-12-09 11:58:00</td>\n",
       "      <td>1.250</td>\n",
       "      <td>17315</td>\n",
       "      <td>United Kingdom</td>\n",
       "      <td>-1.250</td>\n",
       "    </tr>\n",
       "    <tr>\n",
       "      <td>401412</td>\n",
       "      <td>C581569</td>\n",
       "      <td>20979</td>\n",
       "      <td>36 PENCILS TUBE RED RETROSPOT</td>\n",
       "      <td>-5</td>\n",
       "      <td>2011-12-09 11:58:00</td>\n",
       "      <td>1.250</td>\n",
       "      <td>17315</td>\n",
       "      <td>United Kingdom</td>\n",
       "      <td>-6.250</td>\n",
       "    </tr>\n",
       "  </tbody>\n",
       "</table>\n",
       "<p>8872 rows × 9 columns</p>\n",
       "</div>"
      ],
      "text/plain": [
       "       InvoiceNo StockCode                       Description  Quantity  \\\n",
       "141      C536379         D                          Discount        -1   \n",
       "154      C536383    35004C   SET OF 3 COLOURED  FLYING DUCKS        -1   \n",
       "235      C536391     22556    PLASTERS IN TIN CIRCUS PARADE        -12   \n",
       "236      C536391     21984  PACK OF 12 PINK PAISLEY TISSUES        -24   \n",
       "237      C536391     21983  PACK OF 12 BLUE PAISLEY TISSUES        -24   \n",
       "...          ...       ...                               ...       ...   \n",
       "401159   C581490     23144   ZINC T-LIGHT HOLDER STARS SMALL       -11   \n",
       "401243   C581499         M                            Manual        -1   \n",
       "401410   C581568     21258        VICTORIAN SEWING BOX LARGE        -5   \n",
       "401411   C581569     84978  HANGING HEART JAR T-LIGHT HOLDER        -1   \n",
       "401412   C581569     20979     36 PENCILS TUBE RED RETROSPOT        -5   \n",
       "\n",
       "               InvoiceDate  UnitPrice  CustomerID         Country  Invoice  \n",
       "141    2010-12-01 09:41:00     27.500       14527  United Kingdom  -27.500  \n",
       "154    2010-12-01 09:49:00      4.650       15311  United Kingdom   -4.650  \n",
       "235    2010-12-01 10:24:00      1.650       17548  United Kingdom  -19.800  \n",
       "236    2010-12-01 10:24:00      0.290       17548  United Kingdom   -6.960  \n",
       "237    2010-12-01 10:24:00      0.290       17548  United Kingdom   -6.960  \n",
       "...                    ...        ...         ...             ...      ...  \n",
       "401159 2011-12-09 09:57:00      0.830       14397  United Kingdom   -9.130  \n",
       "401243 2011-12-09 10:28:00    224.690       15498  United Kingdom -224.690  \n",
       "401410 2011-12-09 11:57:00     10.950       15311  United Kingdom  -54.750  \n",
       "401411 2011-12-09 11:58:00      1.250       17315  United Kingdom   -1.250  \n",
       "401412 2011-12-09 11:58:00      1.250       17315  United Kingdom   -6.250  \n",
       "\n",
       "[8872 rows x 9 columns]"
      ]
     },
     "execution_count": 13,
     "metadata": {},
     "output_type": "execute_result"
    }
   ],
   "source": [
    "# cancelled orders\n",
    "df[df.InvoiceNo.str.startswith('C')]"
   ]
  },
  {
   "cell_type": "markdown",
   "metadata": {},
   "source": [
    "### Discounts"
   ]
  },
  {
   "cell_type": "code",
   "execution_count": 14,
   "metadata": {
    "scrolled": true
   },
   "outputs": [
    {
     "data": {
      "text/html": [
       "<div>\n",
       "<style scoped>\n",
       "    .dataframe tbody tr th:only-of-type {\n",
       "        vertical-align: middle;\n",
       "    }\n",
       "\n",
       "    .dataframe tbody tr th {\n",
       "        vertical-align: top;\n",
       "    }\n",
       "\n",
       "    .dataframe thead th {\n",
       "        text-align: right;\n",
       "    }\n",
       "</style>\n",
       "<table border=\"1\" class=\"dataframe\">\n",
       "  <thead>\n",
       "    <tr style=\"text-align: right;\">\n",
       "      <th></th>\n",
       "      <th>InvoiceNo</th>\n",
       "      <th>StockCode</th>\n",
       "      <th>Description</th>\n",
       "      <th>Quantity</th>\n",
       "      <th>InvoiceDate</th>\n",
       "      <th>UnitPrice</th>\n",
       "      <th>CustomerID</th>\n",
       "      <th>Country</th>\n",
       "      <th>Invoice</th>\n",
       "    </tr>\n",
       "  </thead>\n",
       "  <tbody>\n",
       "    <tr>\n",
       "      <td>141</td>\n",
       "      <td>C536379</td>\n",
       "      <td>D</td>\n",
       "      <td>Discount</td>\n",
       "      <td>-1</td>\n",
       "      <td>2010-12-01 09:41:00</td>\n",
       "      <td>27.500</td>\n",
       "      <td>14527</td>\n",
       "      <td>United Kingdom</td>\n",
       "      <td>-27.500</td>\n",
       "    </tr>\n",
       "    <tr>\n",
       "      <td>6596</td>\n",
       "      <td>C537164</td>\n",
       "      <td>D</td>\n",
       "      <td>Discount</td>\n",
       "      <td>-1</td>\n",
       "      <td>2010-12-05 13:21:00</td>\n",
       "      <td>29.290</td>\n",
       "      <td>14527</td>\n",
       "      <td>United Kingdom</td>\n",
       "      <td>-29.290</td>\n",
       "    </tr>\n",
       "    <tr>\n",
       "      <td>9977</td>\n",
       "      <td>C537597</td>\n",
       "      <td>D</td>\n",
       "      <td>Discount</td>\n",
       "      <td>-1</td>\n",
       "      <td>2010-12-07 12:34:00</td>\n",
       "      <td>281.000</td>\n",
       "      <td>15498</td>\n",
       "      <td>United Kingdom</td>\n",
       "      <td>-281.000</td>\n",
       "    </tr>\n",
       "    <tr>\n",
       "      <td>12450</td>\n",
       "      <td>C537857</td>\n",
       "      <td>D</td>\n",
       "      <td>Discount</td>\n",
       "      <td>-1</td>\n",
       "      <td>2010-12-08 16:00:00</td>\n",
       "      <td>267.120</td>\n",
       "      <td>17340</td>\n",
       "      <td>United Kingdom</td>\n",
       "      <td>-267.120</td>\n",
       "    </tr>\n",
       "    <tr>\n",
       "      <td>20274</td>\n",
       "      <td>C538897</td>\n",
       "      <td>D</td>\n",
       "      <td>Discount</td>\n",
       "      <td>-1</td>\n",
       "      <td>2010-12-15 09:14:00</td>\n",
       "      <td>5.760</td>\n",
       "      <td>16422</td>\n",
       "      <td>United Kingdom</td>\n",
       "      <td>-5.760</td>\n",
       "    </tr>\n",
       "    <tr>\n",
       "      <td>...</td>\n",
       "      <td>...</td>\n",
       "      <td>...</td>\n",
       "      <td>...</td>\n",
       "      <td>...</td>\n",
       "      <td>...</td>\n",
       "      <td>...</td>\n",
       "      <td>...</td>\n",
       "      <td>...</td>\n",
       "      <td>...</td>\n",
       "    </tr>\n",
       "    <tr>\n",
       "      <td>357248</td>\n",
       "      <td>C577227</td>\n",
       "      <td>D</td>\n",
       "      <td>Discount</td>\n",
       "      <td>-1</td>\n",
       "      <td>2011-11-18 12:06:00</td>\n",
       "      <td>19.820</td>\n",
       "      <td>14527</td>\n",
       "      <td>United Kingdom</td>\n",
       "      <td>-19.820</td>\n",
       "    </tr>\n",
       "    <tr>\n",
       "      <td>357249</td>\n",
       "      <td>C577227</td>\n",
       "      <td>D</td>\n",
       "      <td>Discount</td>\n",
       "      <td>-1</td>\n",
       "      <td>2011-11-18 12:06:00</td>\n",
       "      <td>16.760</td>\n",
       "      <td>14527</td>\n",
       "      <td>United Kingdom</td>\n",
       "      <td>-16.760</td>\n",
       "    </tr>\n",
       "    <tr>\n",
       "      <td>367994</td>\n",
       "      <td>C578239</td>\n",
       "      <td>D</td>\n",
       "      <td>Discount</td>\n",
       "      <td>-1</td>\n",
       "      <td>2011-11-23 12:29:00</td>\n",
       "      <td>26.330</td>\n",
       "      <td>14912</td>\n",
       "      <td>Italy</td>\n",
       "      <td>-26.330</td>\n",
       "    </tr>\n",
       "    <tr>\n",
       "      <td>384059</td>\n",
       "      <td>C579884</td>\n",
       "      <td>D</td>\n",
       "      <td>Discount</td>\n",
       "      <td>-1</td>\n",
       "      <td>2011-11-30 17:34:00</td>\n",
       "      <td>20.530</td>\n",
       "      <td>14527</td>\n",
       "      <td>United Kingdom</td>\n",
       "      <td>-20.530</td>\n",
       "    </tr>\n",
       "    <tr>\n",
       "      <td>384292</td>\n",
       "      <td>C579908</td>\n",
       "      <td>D</td>\n",
       "      <td>Discount</td>\n",
       "      <td>-1</td>\n",
       "      <td>2011-12-01 08:49:00</td>\n",
       "      <td>28.680</td>\n",
       "      <td>14527</td>\n",
       "      <td>United Kingdom</td>\n",
       "      <td>-28.680</td>\n",
       "    </tr>\n",
       "  </tbody>\n",
       "</table>\n",
       "<p>77 rows × 9 columns</p>\n",
       "</div>"
      ],
      "text/plain": [
       "       InvoiceNo StockCode Description  Quantity         InvoiceDate  \\\n",
       "141      C536379         D    Discount        -1 2010-12-01 09:41:00   \n",
       "6596     C537164         D    Discount        -1 2010-12-05 13:21:00   \n",
       "9977     C537597         D    Discount        -1 2010-12-07 12:34:00   \n",
       "12450    C537857         D    Discount        -1 2010-12-08 16:00:00   \n",
       "20274    C538897         D    Discount        -1 2010-12-15 09:14:00   \n",
       "...          ...       ...         ...       ...                 ...   \n",
       "357248   C577227         D    Discount        -1 2011-11-18 12:06:00   \n",
       "357249   C577227         D    Discount        -1 2011-11-18 12:06:00   \n",
       "367994   C578239         D    Discount        -1 2011-11-23 12:29:00   \n",
       "384059   C579884         D    Discount        -1 2011-11-30 17:34:00   \n",
       "384292   C579908         D    Discount        -1 2011-12-01 08:49:00   \n",
       "\n",
       "        UnitPrice  CustomerID         Country  Invoice  \n",
       "141        27.500       14527  United Kingdom  -27.500  \n",
       "6596       29.290       14527  United Kingdom  -29.290  \n",
       "9977      281.000       15498  United Kingdom -281.000  \n",
       "12450     267.120       17340  United Kingdom -267.120  \n",
       "20274       5.760       16422  United Kingdom   -5.760  \n",
       "...           ...         ...             ...      ...  \n",
       "357248     19.820       14527  United Kingdom  -19.820  \n",
       "357249     16.760       14527  United Kingdom  -16.760  \n",
       "367994     26.330       14912           Italy  -26.330  \n",
       "384059     20.530       14527  United Kingdom  -20.530  \n",
       "384292     28.680       14527  United Kingdom  -28.680  \n",
       "\n",
       "[77 rows x 9 columns]"
      ]
     },
     "execution_count": 14,
     "metadata": {},
     "output_type": "execute_result"
    }
   ],
   "source": [
    "df[df.StockCode == 'D']"
   ]
  },
  {
   "cell_type": "code",
   "execution_count": 15,
   "metadata": {},
   "outputs": [
    {
     "data": {
      "text/html": [
       "<div>\n",
       "<style scoped>\n",
       "    .dataframe tbody tr th:only-of-type {\n",
       "        vertical-align: middle;\n",
       "    }\n",
       "\n",
       "    .dataframe tbody tr th {\n",
       "        vertical-align: top;\n",
       "    }\n",
       "\n",
       "    .dataframe thead th {\n",
       "        text-align: right;\n",
       "    }\n",
       "</style>\n",
       "<table border=\"1\" class=\"dataframe\">\n",
       "  <thead>\n",
       "    <tr style=\"text-align: right;\">\n",
       "      <th></th>\n",
       "      <th>InvoiceNo</th>\n",
       "      <th>StockCode</th>\n",
       "      <th>Description</th>\n",
       "      <th>Quantity</th>\n",
       "      <th>InvoiceDate</th>\n",
       "      <th>UnitPrice</th>\n",
       "      <th>CustomerID</th>\n",
       "      <th>Country</th>\n",
       "      <th>Invoice</th>\n",
       "    </tr>\n",
       "  </thead>\n",
       "  <tbody>\n",
       "    <tr>\n",
       "      <td>14111</td>\n",
       "      <td>C538124</td>\n",
       "      <td>M</td>\n",
       "      <td>Manual</td>\n",
       "      <td>-4</td>\n",
       "      <td>2010-12-09 15:43:00</td>\n",
       "      <td>0.500</td>\n",
       "      <td>15329</td>\n",
       "      <td>United Kingdom</td>\n",
       "      <td>-2.000</td>\n",
       "    </tr>\n",
       "    <tr>\n",
       "      <td>19064</td>\n",
       "      <td>C538806</td>\n",
       "      <td>M</td>\n",
       "      <td>Manual</td>\n",
       "      <td>-1</td>\n",
       "      <td>2010-12-14 11:59:00</td>\n",
       "      <td>4.250</td>\n",
       "      <td>15181</td>\n",
       "      <td>United Kingdom</td>\n",
       "      <td>-4.250</td>\n",
       "    </tr>\n",
       "    <tr>\n",
       "      <td>28432</td>\n",
       "      <td>C540271</td>\n",
       "      <td>M</td>\n",
       "      <td>Manual</td>\n",
       "      <td>-1</td>\n",
       "      <td>2011-01-06 11:51:00</td>\n",
       "      <td>1126.000</td>\n",
       "      <td>12503</td>\n",
       "      <td>Spain</td>\n",
       "      <td>-1126.000</td>\n",
       "    </tr>\n",
       "    <tr>\n",
       "      <td>28722</td>\n",
       "      <td>C540307</td>\n",
       "      <td>M</td>\n",
       "      <td>Manual</td>\n",
       "      <td>-2</td>\n",
       "      <td>2011-01-06 12:58:00</td>\n",
       "      <td>21.950</td>\n",
       "      <td>15823</td>\n",
       "      <td>United Kingdom</td>\n",
       "      <td>-43.900</td>\n",
       "    </tr>\n",
       "    <tr>\n",
       "      <td>36903</td>\n",
       "      <td>C541284</td>\n",
       "      <td>M</td>\n",
       "      <td>Manual</td>\n",
       "      <td>-36</td>\n",
       "      <td>2011-01-17 12:45:00</td>\n",
       "      <td>0.870</td>\n",
       "      <td>17744</td>\n",
       "      <td>United Kingdom</td>\n",
       "      <td>-31.320</td>\n",
       "    </tr>\n",
       "    <tr>\n",
       "      <td>...</td>\n",
       "      <td>...</td>\n",
       "      <td>...</td>\n",
       "      <td>...</td>\n",
       "      <td>...</td>\n",
       "      <td>...</td>\n",
       "      <td>...</td>\n",
       "      <td>...</td>\n",
       "      <td>...</td>\n",
       "      <td>...</td>\n",
       "    </tr>\n",
       "    <tr>\n",
       "      <td>387128</td>\n",
       "      <td>C580263</td>\n",
       "      <td>M</td>\n",
       "      <td>Manual</td>\n",
       "      <td>-16</td>\n",
       "      <td>2011-12-02 12:43:00</td>\n",
       "      <td>0.290</td>\n",
       "      <td>12536</td>\n",
       "      <td>France</td>\n",
       "      <td>-4.640</td>\n",
       "    </tr>\n",
       "    <tr>\n",
       "      <td>389559</td>\n",
       "      <td>C580510</td>\n",
       "      <td>M</td>\n",
       "      <td>Manual</td>\n",
       "      <td>-1</td>\n",
       "      <td>2011-12-04 13:48:00</td>\n",
       "      <td>1.250</td>\n",
       "      <td>14456</td>\n",
       "      <td>United Kingdom</td>\n",
       "      <td>-1.250</td>\n",
       "    </tr>\n",
       "    <tr>\n",
       "      <td>396440</td>\n",
       "      <td>C581009</td>\n",
       "      <td>M</td>\n",
       "      <td>Manual</td>\n",
       "      <td>-1</td>\n",
       "      <td>2011-12-07 09:15:00</td>\n",
       "      <td>125.000</td>\n",
       "      <td>16971</td>\n",
       "      <td>United Kingdom</td>\n",
       "      <td>-125.000</td>\n",
       "    </tr>\n",
       "    <tr>\n",
       "      <td>397435</td>\n",
       "      <td>C581145</td>\n",
       "      <td>M</td>\n",
       "      <td>Manual</td>\n",
       "      <td>-1</td>\n",
       "      <td>2011-12-07 13:48:00</td>\n",
       "      <td>9.950</td>\n",
       "      <td>17490</td>\n",
       "      <td>United Kingdom</td>\n",
       "      <td>-9.950</td>\n",
       "    </tr>\n",
       "    <tr>\n",
       "      <td>401243</td>\n",
       "      <td>C581499</td>\n",
       "      <td>M</td>\n",
       "      <td>Manual</td>\n",
       "      <td>-1</td>\n",
       "      <td>2011-12-09 10:28:00</td>\n",
       "      <td>224.690</td>\n",
       "      <td>15498</td>\n",
       "      <td>United Kingdom</td>\n",
       "      <td>-224.690</td>\n",
       "    </tr>\n",
       "  </tbody>\n",
       "</table>\n",
       "<p>175 rows × 9 columns</p>\n",
       "</div>"
      ],
      "text/plain": [
       "       InvoiceNo StockCode Description  Quantity         InvoiceDate  \\\n",
       "14111    C538124         M      Manual        -4 2010-12-09 15:43:00   \n",
       "19064    C538806         M      Manual        -1 2010-12-14 11:59:00   \n",
       "28432    C540271         M      Manual        -1 2011-01-06 11:51:00   \n",
       "28722    C540307         M      Manual        -2 2011-01-06 12:58:00   \n",
       "36903    C541284         M      Manual       -36 2011-01-17 12:45:00   \n",
       "...          ...       ...         ...       ...                 ...   \n",
       "387128   C580263         M      Manual       -16 2011-12-02 12:43:00   \n",
       "389559   C580510         M      Manual        -1 2011-12-04 13:48:00   \n",
       "396440   C581009         M      Manual        -1 2011-12-07 09:15:00   \n",
       "397435   C581145         M      Manual        -1 2011-12-07 13:48:00   \n",
       "401243   C581499         M      Manual        -1 2011-12-09 10:28:00   \n",
       "\n",
       "        UnitPrice  CustomerID         Country   Invoice  \n",
       "14111       0.500       15329  United Kingdom    -2.000  \n",
       "19064       4.250       15181  United Kingdom    -4.250  \n",
       "28432    1126.000       12503           Spain -1126.000  \n",
       "28722      21.950       15823  United Kingdom   -43.900  \n",
       "36903       0.870       17744  United Kingdom   -31.320  \n",
       "...           ...         ...             ...       ...  \n",
       "387128      0.290       12536          France    -4.640  \n",
       "389559      1.250       14456  United Kingdom    -1.250  \n",
       "396440    125.000       16971  United Kingdom  -125.000  \n",
       "397435      9.950       17490  United Kingdom    -9.950  \n",
       "401243    224.690       15498  United Kingdom  -224.690  \n",
       "\n",
       "[175 rows x 9 columns]"
      ]
     },
     "execution_count": 15,
     "metadata": {},
     "output_type": "execute_result"
    }
   ],
   "source": [
    "df[(df.Description == 'Manual') & (df.InvoiceNo.str.startswith('C'))]"
   ]
  },
  {
   "cell_type": "markdown",
   "metadata": {},
   "source": [
    "### Countries"
   ]
  },
  {
   "cell_type": "code",
   "execution_count": 16,
   "metadata": {},
   "outputs": [
    {
     "data": {
      "text/plain": [
       "Country\n",
       "United Kingdom     3950\n",
       "Germany              95\n",
       "France               87\n",
       "Spain                31\n",
       "Belgium              25\n",
       "Switzerland          21\n",
       "Portugal             19\n",
       "Italy                15\n",
       "Finland              12\n",
       "Austria              11\n",
       "Norway               10\n",
       "Channel Islands       9\n",
       "Denmark               9\n",
       "Australia             9\n",
       "Netherlands           9\n",
       "Cyprus                8\n",
       "Japan                 8\n",
       "Sweden                8\n",
       "Poland                6\n",
       "Unspecified           4\n",
       "Name: CustomerID, dtype: int64"
      ]
     },
     "execution_count": 16,
     "metadata": {},
     "output_type": "execute_result"
    }
   ],
   "source": [
    "# Customers per country\n",
    "df.groupby('Country').CustomerID.nunique().sort_values(ascending = False).head(20)"
   ]
  },
  {
   "cell_type": "code",
   "execution_count": 17,
   "metadata": {
    "scrolled": false
   },
   "outputs": [
    {
     "data": {
      "text/plain": [
       "Country\n",
       "United Kingdom     19857\n",
       "Germany              603\n",
       "France               458\n",
       "EIRE                 319\n",
       "Belgium              119\n",
       "Spain                105\n",
       "Netherlands          101\n",
       "Switzerland           71\n",
       "Portugal              70\n",
       "Australia             69\n",
       "Italy                 55\n",
       "Finland               48\n",
       "Sweden                46\n",
       "Norway                40\n",
       "Channel Islands       33\n",
       "Japan                 28\n",
       "Poland                24\n",
       "Denmark               21\n",
       "Cyprus                20\n",
       "Austria               19\n",
       "Name: InvoiceNo, dtype: int64"
      ]
     },
     "execution_count": 17,
     "metadata": {},
     "output_type": "execute_result"
    }
   ],
   "source": [
    "# Orders per country\n",
    "df.groupby('Country').InvoiceNo.nunique().sort_values(ascending=False).head(20)"
   ]
  },
  {
   "cell_type": "code",
   "execution_count": 18,
   "metadata": {
    "scrolled": false
   },
   "outputs": [
    {
     "data": {
      "text/plain": [
       "Country\n",
       "United Kingdom   6747156.154\n",
       "Netherlands       284661.540\n",
       "EIRE              250001.780\n",
       "Germany           221509.470\n",
       "France            196626.050\n",
       "Australia         137009.770\n",
       "Switzerland        55739.400\n",
       "Spain              54756.030\n",
       "Belgium            40910.960\n",
       "Sweden             36585.410\n",
       "Name: Invoice, dtype: float64"
      ]
     },
     "execution_count": 18,
     "metadata": {},
     "output_type": "execute_result"
    }
   ],
   "source": [
    "# Spending per country\n",
    "df.groupby('Country')['Invoice'].sum().sort_values(ascending = False).head(10)"
   ]
  },
  {
   "cell_type": "markdown",
   "metadata": {},
   "source": [
    "### The customers"
   ]
  },
  {
   "cell_type": "code",
   "execution_count": 19,
   "metadata": {},
   "outputs": [
    {
     "data": {
      "text/plain": [
       "4372"
      ]
     },
     "execution_count": 19,
     "metadata": {},
     "output_type": "execute_result"
    }
   ],
   "source": [
    "# How many customers are there?\n",
    "df.CustomerID.nunique()"
   ]
  },
  {
   "cell_type": "code",
   "execution_count": 20,
   "metadata": {
    "scrolled": true
   },
   "outputs": [
    {
     "data": {
      "text/plain": [
       "CustomerID\n",
       "17841    7812\n",
       "14911    5898\n",
       "14096    5128\n",
       "12748    4459\n",
       "14606    2759\n",
       "15311    2478\n",
       "14646    2085\n",
       "13089    1853\n",
       "13263    1667\n",
       "14298    1640\n",
       "dtype: int64"
      ]
     },
     "execution_count": 20,
     "metadata": {},
     "output_type": "execute_result"
    }
   ],
   "source": [
    "# Top 10 customers by number of items\n",
    "df.groupby('CustomerID').size().sort_values(ascending = False).head(10)"
   ]
  },
  {
   "cell_type": "code",
   "execution_count": 21,
   "metadata": {
    "scrolled": false
   },
   "outputs": [
    {
     "data": {
      "text/plain": [
       "Country         CustomerID\n",
       "Netherlands     14646        279489.020\n",
       "United Kingdom  18102        256438.490\n",
       "                17450        187322.170\n",
       "EIRE            14911        132458.730\n",
       "Australia       12415        123725.450\n",
       "EIRE            14156        113214.590\n",
       "United Kingdom  17511         88125.380\n",
       "                16684         65892.080\n",
       "                13694         62690.540\n",
       "                15311         59284.190\n",
       "Name: Invoice, dtype: float64"
      ]
     },
     "execution_count": 21,
     "metadata": {},
     "output_type": "execute_result"
    }
   ],
   "source": [
    "# Top 10 customers by spending\n",
    "df.groupby(['Country','CustomerID'])['Invoice'].sum().sort_values(ascending = False).head(10)"
   ]
  },
  {
   "cell_type": "code",
   "execution_count": 22,
   "metadata": {
    "scrolled": true
   },
   "outputs": [
    {
     "data": {
      "text/plain": [
       "Country\n",
       "United Kingdom   6747156.154\n",
       "Netherlands       284661.540\n",
       "EIRE              250001.780\n",
       "Germany           221509.470\n",
       "France            196626.050\n",
       "Australia         137009.770\n",
       "Switzerland        55739.400\n",
       "Spain              54756.030\n",
       "Belgium            40910.960\n",
       "Sweden             36585.410\n",
       "Name: Invoice, dtype: float64"
      ]
     },
     "execution_count": 22,
     "metadata": {},
     "output_type": "execute_result"
    }
   ],
   "source": [
    "# Top 10 countries by spending\n",
    "df.groupby('Country')['Invoice'].sum().sort_values(ascending = False).head(10)"
   ]
  },
  {
   "cell_type": "code",
   "execution_count": 23,
   "metadata": {
    "scrolled": true
   },
   "outputs": [
    {
     "data": {
      "text/plain": [
       "Country\n",
       "United Kingdom    3950\n",
       "Germany             95\n",
       "France              87\n",
       "Spain               31\n",
       "Belgium             25\n",
       "Switzerland         21\n",
       "Portugal            19\n",
       "Italy               15\n",
       "Finland             12\n",
       "Austria             11\n",
       "Name: CustomerID, dtype: int64"
      ]
     },
     "execution_count": 23,
     "metadata": {},
     "output_type": "execute_result"
    }
   ],
   "source": [
    "# No of customers per country\n",
    "df.groupby('Country')['CustomerID'].nunique().sort_values(ascending= False).head(10)"
   ]
  },
  {
   "cell_type": "code",
   "execution_count": 24,
   "metadata": {
    "scrolled": false
   },
   "outputs": [
    {
     "data": {
      "text/plain": [
       "CustomerID\n",
       "17850   2010-12-01 08:26:00\n",
       "13047   2010-12-01 08:34:00\n",
       "12583   2010-12-01 08:45:00\n",
       "13748   2010-12-01 09:00:00\n",
       "15100   2010-12-01 09:09:00\n",
       "Name: InvoiceDate, dtype: datetime64[ns]"
      ]
     },
     "execution_count": 24,
     "metadata": {},
     "output_type": "execute_result"
    }
   ],
   "source": [
    "df.groupby('CustomerID')['InvoiceDate'].min().sort_values().head(5)"
   ]
  },
  {
   "cell_type": "code",
   "execution_count": 25,
   "metadata": {},
   "outputs": [],
   "source": [
    "# First order of customer\n",
    "newc= df.groupby('CustomerID')['InvoiceDate'].min().reset_index()"
   ]
  },
  {
   "cell_type": "code",
   "execution_count": 26,
   "metadata": {},
   "outputs": [
    {
     "data": {
      "text/html": [
       "<div>\n",
       "<style scoped>\n",
       "    .dataframe tbody tr th:only-of-type {\n",
       "        vertical-align: middle;\n",
       "    }\n",
       "\n",
       "    .dataframe tbody tr th {\n",
       "        vertical-align: top;\n",
       "    }\n",
       "\n",
       "    .dataframe thead th {\n",
       "        text-align: right;\n",
       "    }\n",
       "</style>\n",
       "<table border=\"1\" class=\"dataframe\">\n",
       "  <thead>\n",
       "    <tr style=\"text-align: right;\">\n",
       "      <th></th>\n",
       "      <th>CustomerID</th>\n",
       "      <th>InvoiceDate</th>\n",
       "    </tr>\n",
       "  </thead>\n",
       "  <tbody>\n",
       "    <tr>\n",
       "      <td>0</td>\n",
       "      <td>12346</td>\n",
       "      <td>2011-01-18 10:01:00</td>\n",
       "    </tr>\n",
       "    <tr>\n",
       "      <td>1</td>\n",
       "      <td>12347</td>\n",
       "      <td>2010-12-07 14:57:00</td>\n",
       "    </tr>\n",
       "    <tr>\n",
       "      <td>2</td>\n",
       "      <td>12348</td>\n",
       "      <td>2010-12-16 19:09:00</td>\n",
       "    </tr>\n",
       "    <tr>\n",
       "      <td>3</td>\n",
       "      <td>12349</td>\n",
       "      <td>2011-11-21 09:51:00</td>\n",
       "    </tr>\n",
       "    <tr>\n",
       "      <td>4</td>\n",
       "      <td>12350</td>\n",
       "      <td>2011-02-02 16:01:00</td>\n",
       "    </tr>\n",
       "    <tr>\n",
       "      <td>...</td>\n",
       "      <td>...</td>\n",
       "      <td>...</td>\n",
       "    </tr>\n",
       "    <tr>\n",
       "      <td>4367</td>\n",
       "      <td>18280</td>\n",
       "      <td>2011-03-07 09:52:00</td>\n",
       "    </tr>\n",
       "    <tr>\n",
       "      <td>4368</td>\n",
       "      <td>18281</td>\n",
       "      <td>2011-06-12 10:53:00</td>\n",
       "    </tr>\n",
       "    <tr>\n",
       "      <td>4369</td>\n",
       "      <td>18282</td>\n",
       "      <td>2011-08-05 13:35:00</td>\n",
       "    </tr>\n",
       "    <tr>\n",
       "      <td>4370</td>\n",
       "      <td>18283</td>\n",
       "      <td>2011-01-06 14:14:00</td>\n",
       "    </tr>\n",
       "    <tr>\n",
       "      <td>4371</td>\n",
       "      <td>18287</td>\n",
       "      <td>2011-05-22 10:39:00</td>\n",
       "    </tr>\n",
       "  </tbody>\n",
       "</table>\n",
       "<p>4372 rows × 2 columns</p>\n",
       "</div>"
      ],
      "text/plain": [
       "      CustomerID         InvoiceDate\n",
       "0          12346 2011-01-18 10:01:00\n",
       "1          12347 2010-12-07 14:57:00\n",
       "2          12348 2010-12-16 19:09:00\n",
       "3          12349 2011-11-21 09:51:00\n",
       "4          12350 2011-02-02 16:01:00\n",
       "...          ...                 ...\n",
       "4367       18280 2011-03-07 09:52:00\n",
       "4368       18281 2011-06-12 10:53:00\n",
       "4369       18282 2011-08-05 13:35:00\n",
       "4370       18283 2011-01-06 14:14:00\n",
       "4371       18287 2011-05-22 10:39:00\n",
       "\n",
       "[4372 rows x 2 columns]"
      ]
     },
     "execution_count": 26,
     "metadata": {},
     "output_type": "execute_result"
    }
   ],
   "source": [
    "newc"
   ]
  },
  {
   "cell_type": "code",
   "execution_count": 27,
   "metadata": {
    "scrolled": true
   },
   "outputs": [],
   "source": [
    "a = newc.groupby(by = [newc.InvoiceDate.dt.month]).count()"
   ]
  },
  {
   "cell_type": "code",
   "execution_count": 28,
   "metadata": {
    "scrolled": false
   },
   "outputs": [
    {
     "data": {
      "text/html": [
       "<div>\n",
       "<style scoped>\n",
       "    .dataframe tbody tr th:only-of-type {\n",
       "        vertical-align: middle;\n",
       "    }\n",
       "\n",
       "    .dataframe tbody tr th {\n",
       "        vertical-align: top;\n",
       "    }\n",
       "\n",
       "    .dataframe thead th {\n",
       "        text-align: right;\n",
       "    }\n",
       "</style>\n",
       "<table border=\"1\" class=\"dataframe\">\n",
       "  <thead>\n",
       "    <tr style=\"text-align: right;\">\n",
       "      <th></th>\n",
       "      <th>CustomerID</th>\n",
       "      <th>InvoiceDate</th>\n",
       "    </tr>\n",
       "    <tr>\n",
       "      <th>InvoiceDate</th>\n",
       "      <th></th>\n",
       "      <th></th>\n",
       "    </tr>\n",
       "  </thead>\n",
       "  <tbody>\n",
       "    <tr>\n",
       "      <td>1</td>\n",
       "      <td>421</td>\n",
       "      <td>421</td>\n",
       "    </tr>\n",
       "    <tr>\n",
       "      <td>2</td>\n",
       "      <td>380</td>\n",
       "      <td>380</td>\n",
       "    </tr>\n",
       "    <tr>\n",
       "      <td>3</td>\n",
       "      <td>440</td>\n",
       "      <td>440</td>\n",
       "    </tr>\n",
       "    <tr>\n",
       "      <td>4</td>\n",
       "      <td>299</td>\n",
       "      <td>299</td>\n",
       "    </tr>\n",
       "    <tr>\n",
       "      <td>5</td>\n",
       "      <td>279</td>\n",
       "      <td>279</td>\n",
       "    </tr>\n",
       "    <tr>\n",
       "      <td>6</td>\n",
       "      <td>235</td>\n",
       "      <td>235</td>\n",
       "    </tr>\n",
       "    <tr>\n",
       "      <td>7</td>\n",
       "      <td>191</td>\n",
       "      <td>191</td>\n",
       "    </tr>\n",
       "    <tr>\n",
       "      <td>8</td>\n",
       "      <td>167</td>\n",
       "      <td>167</td>\n",
       "    </tr>\n",
       "    <tr>\n",
       "      <td>9</td>\n",
       "      <td>298</td>\n",
       "      <td>298</td>\n",
       "    </tr>\n",
       "    <tr>\n",
       "      <td>10</td>\n",
       "      <td>352</td>\n",
       "      <td>352</td>\n",
       "    </tr>\n",
       "    <tr>\n",
       "      <td>11</td>\n",
       "      <td>321</td>\n",
       "      <td>321</td>\n",
       "    </tr>\n",
       "    <tr>\n",
       "      <td>12</td>\n",
       "      <td>989</td>\n",
       "      <td>989</td>\n",
       "    </tr>\n",
       "  </tbody>\n",
       "</table>\n",
       "</div>"
      ],
      "text/plain": [
       "             CustomerID  InvoiceDate\n",
       "InvoiceDate                         \n",
       "1                   421          421\n",
       "2                   380          380\n",
       "3                   440          440\n",
       "4                   299          299\n",
       "5                   279          279\n",
       "6                   235          235\n",
       "7                   191          191\n",
       "8                   167          167\n",
       "9                   298          298\n",
       "10                  352          352\n",
       "11                  321          321\n",
       "12                  989          989"
      ]
     },
     "execution_count": 28,
     "metadata": {},
     "output_type": "execute_result"
    }
   ],
   "source": [
    "a"
   ]
  },
  {
   "cell_type": "code",
   "execution_count": 29,
   "metadata": {
    "scrolled": true
   },
   "outputs": [
    {
     "data": {
      "text/plain": [
       "<matplotlib.axes._subplots.AxesSubplot at 0x2e8676b4bc8>"
      ]
     },
     "execution_count": 29,
     "metadata": {},
     "output_type": "execute_result"
    },
    {
     "data": {
      "image/png": "[encoded data removed]",
      "text/plain": [
       "<Figure size 432x288 with 1 Axes>"
      ]
     },
     "metadata": {
      "needs_background": "light"
     },
     "output_type": "display_data"
    }
   ],
   "source": [
    "a.plot()"
   ]
  },
  {
   "cell_type": "code",
   "execution_count": 30,
   "metadata": {
    "scrolled": true
   },
   "outputs": [
    {
     "data": {
      "text/plain": [
       "Country         Description                       \n",
       "United Kingdom  WHITE HANGING HEART T-LIGHT HOLDER    1969\n",
       "                REGENCY CAKESTAND 3 TIER              1564\n",
       "                JUMBO BAG RED RETROSPOT               1502\n",
       "                ASSORTED COLOUR BIRD ORNAMENT         1330\n",
       "                PARTY BUNTING                         1320\n",
       "                                                      ... \n",
       "Italy           OFFICE MUG WARMER CHOC+BLUE              1\n",
       "                OFFICE MUG WARMER BLACK+SILVER           1\n",
       "                NOVELTY BISCUITS CAKE STAND 3 TIER       1\n",
       "                Manual                                   1\n",
       "                PINK HEART SHAPE EGG FRYING PAN          1\n",
       "Name: Description, Length: 19361, dtype: int64"
      ]
     },
     "execution_count": 30,
     "metadata": {},
     "output_type": "execute_result"
    }
   ],
   "source": [
    "# Favorite products per country\n",
    "df.groupby('Country')['Description'].value_counts().sort_values(ascending=False)"
   ]
  },
  {
   "cell_type": "code",
   "execution_count": 31,
   "metadata": {
    "scrolled": false
   },
   "outputs": [
    {
     "data": {
      "text/plain": [
       "POSTAGE                                39\n",
       "SPACEBOY LUNCH BOX                     28\n",
       "ROUND SNACK BOXES SET OF4 WOODLAND     25\n",
       "DOLLY GIRL LUNCH BOX                   22\n",
       "SPACEBOY BIRTHDAY CARD                 17\n",
       "Name: Description, dtype: int64"
      ]
     },
     "execution_count": 31,
     "metadata": {},
     "output_type": "execute_result"
    }
   ],
   "source": [
    "df[df.Country == 'Netherlands']['Description'].value_counts().sort_values(ascending=False).head()"
   ]
  },
  {
   "cell_type": "code",
   "execution_count": 32,
   "metadata": {
    "scrolled": true
   },
   "outputs": [
    {
     "data": {
      "text/plain": [
       "CARRIAGE                              99\n",
       "REGENCY CAKESTAND 3 TIER              69\n",
       "ROSES REGENCY TEACUP AND SAUCER       48\n",
       "WHITE HANGING HEART T-LIGHT HOLDER    41\n",
       "VINTAGE SNAP CARDS                    38\n",
       "Name: Description, dtype: int64"
      ]
     },
     "execution_count": 32,
     "metadata": {},
     "output_type": "execute_result"
    }
   ],
   "source": [
    "df[df.Country == 'EIRE']['Description'].value_counts().sort_values(ascending=False).head()"
   ]
  },
  {
   "cell_type": "code",
   "execution_count": 33,
   "metadata": {
    "scrolled": false
   },
   "outputs": [
    {
     "data": {
      "text/plain": [
       "WHITE HANGING HEART T-LIGHT HOLDER    1969\n",
       "REGENCY CAKESTAND 3 TIER              1564\n",
       "JUMBO BAG RED RETROSPOT               1502\n",
       "ASSORTED COLOUR BIRD ORNAMENT         1330\n",
       "PARTY BUNTING                         1320\n",
       "Name: Description, dtype: int64"
      ]
     },
     "execution_count": 33,
     "metadata": {},
     "output_type": "execute_result"
    }
   ],
   "source": [
    "df[df.Country == 'United Kingdom']['Description'].value_counts().sort_values(ascending=False).head()"
   ]
  },
  {
   "cell_type": "code",
   "execution_count": 34,
   "metadata": {
    "scrolled": true
   },
   "outputs": [
    {
     "data": {
      "text/plain": [
       "Series([], Name: Description, dtype: int64)"
      ]
     },
     "execution_count": 34,
     "metadata": {},
     "output_type": "execute_result"
    }
   ],
   "source": [
    "# Lieblingsprodukte des besten Kunden 14646 aus den Niederlanden\n",
    "df[df.CustomerID == '14646']['Description'].value_counts().sort_values(ascending = False).head(10)"
   ]
  },
  {
   "cell_type": "code",
   "execution_count": 35,
   "metadata": {},
   "outputs": [
    {
     "data": {
      "text/html": [
       "<div>\n",
       "<style scoped>\n",
       "    .dataframe tbody tr th:only-of-type {\n",
       "        vertical-align: middle;\n",
       "    }\n",
       "\n",
       "    .dataframe tbody tr th {\n",
       "        vertical-align: top;\n",
       "    }\n",
       "\n",
       "    .dataframe thead th {\n",
       "        text-align: right;\n",
       "    }\n",
       "</style>\n",
       "<table border=\"1\" class=\"dataframe\">\n",
       "  <thead>\n",
       "    <tr style=\"text-align: right;\">\n",
       "      <th></th>\n",
       "      <th>InvoiceNo</th>\n",
       "      <th>StockCode</th>\n",
       "      <th>Description</th>\n",
       "      <th>Quantity</th>\n",
       "      <th>InvoiceDate</th>\n",
       "      <th>UnitPrice</th>\n",
       "      <th>CustomerID</th>\n",
       "      <th>Country</th>\n",
       "      <th>Invoice</th>\n",
       "    </tr>\n",
       "  </thead>\n",
       "  <tbody>\n",
       "    <tr>\n",
       "      <td>178</td>\n",
       "      <td>536387</td>\n",
       "      <td>79321</td>\n",
       "      <td>CHILLI LIGHTS</td>\n",
       "      <td>192</td>\n",
       "      <td>2010-12-01 09:58:00</td>\n",
       "      <td>3.820</td>\n",
       "      <td>16029</td>\n",
       "      <td>United Kingdom</td>\n",
       "      <td>733.440</td>\n",
       "    </tr>\n",
       "    <tr>\n",
       "      <td>179</td>\n",
       "      <td>536387</td>\n",
       "      <td>22780</td>\n",
       "      <td>LIGHT GARLAND BUTTERFILES PINK</td>\n",
       "      <td>192</td>\n",
       "      <td>2010-12-01 09:58:00</td>\n",
       "      <td>3.370</td>\n",
       "      <td>16029</td>\n",
       "      <td>United Kingdom</td>\n",
       "      <td>647.040</td>\n",
       "    </tr>\n",
       "    <tr>\n",
       "      <td>180</td>\n",
       "      <td>536387</td>\n",
       "      <td>22779</td>\n",
       "      <td>WOODEN OWLS LIGHT GARLAND</td>\n",
       "      <td>192</td>\n",
       "      <td>2010-12-01 09:58:00</td>\n",
       "      <td>3.370</td>\n",
       "      <td>16029</td>\n",
       "      <td>United Kingdom</td>\n",
       "      <td>647.040</td>\n",
       "    </tr>\n",
       "    <tr>\n",
       "      <td>181</td>\n",
       "      <td>536387</td>\n",
       "      <td>22466</td>\n",
       "      <td>FAIRY TALE COTTAGE NIGHTLIGHT</td>\n",
       "      <td>432</td>\n",
       "      <td>2010-12-01 09:58:00</td>\n",
       "      <td>1.450</td>\n",
       "      <td>16029</td>\n",
       "      <td>United Kingdom</td>\n",
       "      <td>626.400</td>\n",
       "    </tr>\n",
       "    <tr>\n",
       "      <td>182</td>\n",
       "      <td>536387</td>\n",
       "      <td>21731</td>\n",
       "      <td>RED TOADSTOOL LED NIGHT LIGHT</td>\n",
       "      <td>432</td>\n",
       "      <td>2010-12-01 09:58:00</td>\n",
       "      <td>1.250</td>\n",
       "      <td>16029</td>\n",
       "      <td>United Kingdom</td>\n",
       "      <td>540.000</td>\n",
       "    </tr>\n",
       "    <tr>\n",
       "      <td>...</td>\n",
       "      <td>...</td>\n",
       "      <td>...</td>\n",
       "      <td>...</td>\n",
       "      <td>...</td>\n",
       "      <td>...</td>\n",
       "      <td>...</td>\n",
       "      <td>...</td>\n",
       "      <td>...</td>\n",
       "      <td>...</td>\n",
       "    </tr>\n",
       "    <tr>\n",
       "      <td>400780</td>\n",
       "      <td>581457</td>\n",
       "      <td>23401</td>\n",
       "      <td>RUSTIC MIRROR WITH LACE HEART</td>\n",
       "      <td>126</td>\n",
       "      <td>2011-12-08 18:43:00</td>\n",
       "      <td>4.150</td>\n",
       "      <td>18102</td>\n",
       "      <td>United Kingdom</td>\n",
       "      <td>522.900</td>\n",
       "    </tr>\n",
       "    <tr>\n",
       "      <td>400781</td>\n",
       "      <td>581458</td>\n",
       "      <td>22197</td>\n",
       "      <td>POPCORN HOLDER</td>\n",
       "      <td>1500</td>\n",
       "      <td>2011-12-08 18:45:00</td>\n",
       "      <td>0.720</td>\n",
       "      <td>17949</td>\n",
       "      <td>United Kingdom</td>\n",
       "      <td>1080.000</td>\n",
       "    </tr>\n",
       "    <tr>\n",
       "      <td>400782</td>\n",
       "      <td>581459</td>\n",
       "      <td>22197</td>\n",
       "      <td>POPCORN HOLDER</td>\n",
       "      <td>1200</td>\n",
       "      <td>2011-12-08 18:46:00</td>\n",
       "      <td>0.720</td>\n",
       "      <td>17949</td>\n",
       "      <td>United Kingdom</td>\n",
       "      <td>864.000</td>\n",
       "    </tr>\n",
       "    <tr>\n",
       "      <td>401131</td>\n",
       "      <td>581483</td>\n",
       "      <td>23843</td>\n",
       "      <td>PAPER CRAFT   LITTLE BIRDIE</td>\n",
       "      <td>80995</td>\n",
       "      <td>2011-12-09 09:15:00</td>\n",
       "      <td>2.080</td>\n",
       "      <td>16446</td>\n",
       "      <td>United Kingdom</td>\n",
       "      <td>168469.600</td>\n",
       "    </tr>\n",
       "    <tr>\n",
       "      <td>401135</td>\n",
       "      <td>581485</td>\n",
       "      <td>20749</td>\n",
       "      <td>ASSORTED COLOUR MINI CASES</td>\n",
       "      <td>84</td>\n",
       "      <td>2011-12-09 09:38:00</td>\n",
       "      <td>6.350</td>\n",
       "      <td>17389</td>\n",
       "      <td>United Kingdom</td>\n",
       "      <td>533.400</td>\n",
       "    </tr>\n",
       "  </tbody>\n",
       "</table>\n",
       "<p>913 rows × 9 columns</p>\n",
       "</div>"
      ],
      "text/plain": [
       "       InvoiceNo StockCode                     Description  Quantity  \\\n",
       "178       536387     79321                   CHILLI LIGHTS       192   \n",
       "179       536387     22780  LIGHT GARLAND BUTTERFILES PINK       192   \n",
       "180       536387     22779      WOODEN OWLS LIGHT GARLAND        192   \n",
       "181       536387     22466   FAIRY TALE COTTAGE NIGHTLIGHT       432   \n",
       "182       536387     21731   RED TOADSTOOL LED NIGHT LIGHT       432   \n",
       "...          ...       ...                             ...       ...   \n",
       "400780    581457     23401   RUSTIC MIRROR WITH LACE HEART       126   \n",
       "400781    581458     22197                  POPCORN HOLDER      1500   \n",
       "400782    581459     22197                  POPCORN HOLDER      1200   \n",
       "401131    581483     23843     PAPER CRAFT   LITTLE BIRDIE     80995   \n",
       "401135    581485     20749      ASSORTED COLOUR MINI CASES        84   \n",
       "\n",
       "               InvoiceDate  UnitPrice  CustomerID         Country    Invoice  \n",
       "178    2010-12-01 09:58:00      3.820       16029  United Kingdom    733.440  \n",
       "179    2010-12-01 09:58:00      3.370       16029  United Kingdom    647.040  \n",
       "180    2010-12-01 09:58:00      3.370       16029  United Kingdom    647.040  \n",
       "181    2010-12-01 09:58:00      1.450       16029  United Kingdom    626.400  \n",
       "182    2010-12-01 09:58:00      1.250       16029  United Kingdom    540.000  \n",
       "...                    ...        ...         ...             ...        ...  \n",
       "400780 2011-12-08 18:43:00      4.150       18102  United Kingdom    522.900  \n",
       "400781 2011-12-08 18:45:00      0.720       17949  United Kingdom   1080.000  \n",
       "400782 2011-12-08 18:46:00      0.720       17949  United Kingdom    864.000  \n",
       "401131 2011-12-09 09:15:00      2.080       16446  United Kingdom 168469.600  \n",
       "401135 2011-12-09 09:38:00      6.350       17389  United Kingdom    533.400  \n",
       "\n",
       "[913 rows x 9 columns]"
      ]
     },
     "execution_count": 35,
     "metadata": {},
     "output_type": "execute_result"
    }
   ],
   "source": [
    "df[df.Invoice > 500]"
   ]
  },
  {
   "cell_type": "markdown",
   "metadata": {},
   "source": [
    "### Statistical parameters for Quantity and UnitPrice"
   ]
  },
  {
   "cell_type": "code",
   "execution_count": 36,
   "metadata": {
    "scrolled": true
   },
   "outputs": [
    {
     "data": {
      "text/html": [
       "<div>\n",
       "<style scoped>\n",
       "    .dataframe tbody tr th:only-of-type {\n",
       "        vertical-align: middle;\n",
       "    }\n",
       "\n",
       "    .dataframe tbody tr th {\n",
       "        vertical-align: top;\n",
       "    }\n",
       "\n",
       "    .dataframe thead th {\n",
       "        text-align: right;\n",
       "    }\n",
       "</style>\n",
       "<table border=\"1\" class=\"dataframe\">\n",
       "  <thead>\n",
       "    <tr style=\"text-align: right;\">\n",
       "      <th></th>\n",
       "      <th>Quantity</th>\n",
       "      <th>UnitPrice</th>\n",
       "      <th>CustomerID</th>\n",
       "      <th>Invoice</th>\n",
       "    </tr>\n",
       "  </thead>\n",
       "  <tbody>\n",
       "    <tr>\n",
       "      <td>count</td>\n",
       "      <td>401604.000</td>\n",
       "      <td>401604.000</td>\n",
       "      <td>401604.000</td>\n",
       "      <td>401604.000</td>\n",
       "    </tr>\n",
       "    <tr>\n",
       "      <td>mean</td>\n",
       "      <td>12.183</td>\n",
       "      <td>3.474</td>\n",
       "      <td>15281.161</td>\n",
       "      <td>20.614</td>\n",
       "    </tr>\n",
       "    <tr>\n",
       "      <td>std</td>\n",
       "      <td>250.283</td>\n",
       "      <td>69.764</td>\n",
       "      <td>1714.006</td>\n",
       "      <td>430.352</td>\n",
       "    </tr>\n",
       "    <tr>\n",
       "      <td>min</td>\n",
       "      <td>-80995.000</td>\n",
       "      <td>0.000</td>\n",
       "      <td>12346.000</td>\n",
       "      <td>-168469.600</td>\n",
       "    </tr>\n",
       "    <tr>\n",
       "      <td>25%</td>\n",
       "      <td>2.000</td>\n",
       "      <td>1.250</td>\n",
       "      <td>13939.000</td>\n",
       "      <td>4.250</td>\n",
       "    </tr>\n",
       "    <tr>\n",
       "      <td>50%</td>\n",
       "      <td>5.000</td>\n",
       "      <td>1.950</td>\n",
       "      <td>15145.000</td>\n",
       "      <td>11.700</td>\n",
       "    </tr>\n",
       "    <tr>\n",
       "      <td>75%</td>\n",
       "      <td>12.000</td>\n",
       "      <td>3.750</td>\n",
       "      <td>16784.000</td>\n",
       "      <td>19.800</td>\n",
       "    </tr>\n",
       "    <tr>\n",
       "      <td>max</td>\n",
       "      <td>80995.000</td>\n",
       "      <td>38970.000</td>\n",
       "      <td>18287.000</td>\n",
       "      <td>168469.600</td>\n",
       "    </tr>\n",
       "  </tbody>\n",
       "</table>\n",
       "</div>"
      ],
      "text/plain": [
       "        Quantity  UnitPrice  CustomerID     Invoice\n",
       "count 401604.000 401604.000  401604.000  401604.000\n",
       "mean      12.183      3.474   15281.161      20.614\n",
       "std      250.283     69.764    1714.006     430.352\n",
       "min   -80995.000      0.000   12346.000 -168469.600\n",
       "25%        2.000      1.250   13939.000       4.250\n",
       "50%        5.000      1.950   15145.000      11.700\n",
       "75%       12.000      3.750   16784.000      19.800\n",
       "max    80995.000  38970.000   18287.000  168469.600"
      ]
     },
     "execution_count": 36,
     "metadata": {},
     "output_type": "execute_result"
    }
   ],
   "source": [
    "df.describe()"
   ]
  },
  {
   "cell_type": "code",
   "execution_count": 37,
   "metadata": {},
   "outputs": [],
   "source": [
    "# Errors in Quantity, UnitPrice"
   ]
  },
  {
   "cell_type": "code",
   "execution_count": 38,
   "metadata": {
    "scrolled": true
   },
   "outputs": [
    {
     "data": {
      "text/plain": [
       "2382.920     2\n",
       "2500.000     1\n",
       "3060.600     1\n",
       "3155.950     2\n",
       "3949.320     2\n",
       "4161.060     3\n",
       "4287.630     1\n",
       "6930.000     1\n",
       "8142.750     2\n",
       "38970.000    1\n",
       "Name: UnitPrice, dtype: int64"
      ]
     },
     "execution_count": 38,
     "metadata": {},
     "output_type": "execute_result"
    }
   ],
   "source": [
    "df.UnitPrice.value_counts().sort_index().tail(10)"
   ]
  },
  {
   "cell_type": "code",
   "execution_count": 39,
   "metadata": {
    "scrolled": true
   },
   "outputs": [
    {
     "data": {
      "text/html": [
       "<div>\n",
       "<style scoped>\n",
       "    .dataframe tbody tr th:only-of-type {\n",
       "        vertical-align: middle;\n",
       "    }\n",
       "\n",
       "    .dataframe tbody tr th {\n",
       "        vertical-align: top;\n",
       "    }\n",
       "\n",
       "    .dataframe thead th {\n",
       "        text-align: right;\n",
       "    }\n",
       "</style>\n",
       "<table border=\"1\" class=\"dataframe\">\n",
       "  <thead>\n",
       "    <tr style=\"text-align: right;\">\n",
       "      <th></th>\n",
       "      <th>InvoiceNo</th>\n",
       "      <th>StockCode</th>\n",
       "      <th>Description</th>\n",
       "      <th>Quantity</th>\n",
       "      <th>InvoiceDate</th>\n",
       "      <th>UnitPrice</th>\n",
       "      <th>CustomerID</th>\n",
       "      <th>Country</th>\n",
       "      <th>Invoice</th>\n",
       "    </tr>\n",
       "  </thead>\n",
       "  <tbody>\n",
       "    <tr>\n",
       "      <td>157395</td>\n",
       "      <td>556442</td>\n",
       "      <td>22502</td>\n",
       "      <td>PICNIC BASKET WICKER SMALL</td>\n",
       "      <td>60</td>\n",
       "      <td>2011-06-10 15:22:00</td>\n",
       "      <td>4.950</td>\n",
       "      <td>15098</td>\n",
       "      <td>United Kingdom</td>\n",
       "      <td>297.000</td>\n",
       "    </tr>\n",
       "    <tr>\n",
       "      <td>157405</td>\n",
       "      <td>556444</td>\n",
       "      <td>22502</td>\n",
       "      <td>PICNIC BASKET WICKER 60 PIECES</td>\n",
       "      <td>60</td>\n",
       "      <td>2011-06-10 15:28:00</td>\n",
       "      <td>649.500</td>\n",
       "      <td>15098</td>\n",
       "      <td>United Kingdom</td>\n",
       "      <td>38970.000</td>\n",
       "    </tr>\n",
       "    <tr>\n",
       "      <td>157406</td>\n",
       "      <td>C556445</td>\n",
       "      <td>M</td>\n",
       "      <td>Manual</td>\n",
       "      <td>-1</td>\n",
       "      <td>2011-06-10 15:31:00</td>\n",
       "      <td>38970.000</td>\n",
       "      <td>15098</td>\n",
       "      <td>United Kingdom</td>\n",
       "      <td>-38970.000</td>\n",
       "    </tr>\n",
       "    <tr>\n",
       "      <td>157407</td>\n",
       "      <td>556446</td>\n",
       "      <td>22502</td>\n",
       "      <td>PICNIC BASKET WICKER 60 PIECES</td>\n",
       "      <td>1</td>\n",
       "      <td>2011-06-10 15:33:00</td>\n",
       "      <td>649.500</td>\n",
       "      <td>15098</td>\n",
       "      <td>United Kingdom</td>\n",
       "      <td>649.500</td>\n",
       "    </tr>\n",
       "    <tr>\n",
       "      <td>157417</td>\n",
       "      <td>C556448</td>\n",
       "      <td>22502</td>\n",
       "      <td>PICNIC BASKET WICKER SMALL</td>\n",
       "      <td>-60</td>\n",
       "      <td>2011-06-10 15:39:00</td>\n",
       "      <td>4.950</td>\n",
       "      <td>15098</td>\n",
       "      <td>United Kingdom</td>\n",
       "      <td>-297.000</td>\n",
       "    </tr>\n",
       "  </tbody>\n",
       "</table>\n",
       "</div>"
      ],
      "text/plain": [
       "       InvoiceNo StockCode                     Description  Quantity  \\\n",
       "157395    556442     22502      PICNIC BASKET WICKER SMALL        60   \n",
       "157405    556444     22502  PICNIC BASKET WICKER 60 PIECES        60   \n",
       "157406   C556445         M                          Manual        -1   \n",
       "157407    556446     22502  PICNIC BASKET WICKER 60 PIECES         1   \n",
       "157417   C556448     22502      PICNIC BASKET WICKER SMALL       -60   \n",
       "\n",
       "               InvoiceDate  UnitPrice  CustomerID         Country    Invoice  \n",
       "157395 2011-06-10 15:22:00      4.950       15098  United Kingdom    297.000  \n",
       "157405 2011-06-10 15:28:00    649.500       15098  United Kingdom  38970.000  \n",
       "157406 2011-06-10 15:31:00  38970.000       15098  United Kingdom -38970.000  \n",
       "157407 2011-06-10 15:33:00    649.500       15098  United Kingdom    649.500  \n",
       "157417 2011-06-10 15:39:00      4.950       15098  United Kingdom   -297.000  "
      ]
     },
     "execution_count": 39,
     "metadata": {},
     "output_type": "execute_result"
    }
   ],
   "source": [
    "df.loc[df.CustomerID == 15098]"
   ]
  },
  {
   "cell_type": "code",
   "execution_count": 40,
   "metadata": {
    "scrolled": false
   },
   "outputs": [
    {
     "data": {
      "text/html": [
       "<div>\n",
       "<style scoped>\n",
       "    .dataframe tbody tr th:only-of-type {\n",
       "        vertical-align: middle;\n",
       "    }\n",
       "\n",
       "    .dataframe tbody tr th {\n",
       "        vertical-align: top;\n",
       "    }\n",
       "\n",
       "    .dataframe thead th {\n",
       "        text-align: right;\n",
       "    }\n",
       "</style>\n",
       "<table border=\"1\" class=\"dataframe\">\n",
       "  <thead>\n",
       "    <tr style=\"text-align: right;\">\n",
       "      <th></th>\n",
       "      <th>InvoiceNo</th>\n",
       "      <th>StockCode</th>\n",
       "      <th>Description</th>\n",
       "      <th>Quantity</th>\n",
       "      <th>InvoiceDate</th>\n",
       "      <th>UnitPrice</th>\n",
       "      <th>CustomerID</th>\n",
       "      <th>Country</th>\n",
       "      <th>Invoice</th>\n",
       "    </tr>\n",
       "  </thead>\n",
       "  <tbody>\n",
       "    <tr>\n",
       "      <td>401131</td>\n",
       "      <td>581483</td>\n",
       "      <td>23843</td>\n",
       "      <td>PAPER CRAFT   LITTLE BIRDIE</td>\n",
       "      <td>80995</td>\n",
       "      <td>2011-12-09 09:15:00</td>\n",
       "      <td>2.080</td>\n",
       "      <td>16446</td>\n",
       "      <td>United Kingdom</td>\n",
       "      <td>168469.600</td>\n",
       "    </tr>\n",
       "    <tr>\n",
       "      <td>401132</td>\n",
       "      <td>C581484</td>\n",
       "      <td>23843</td>\n",
       "      <td>PAPER CRAFT   LITTLE BIRDIE</td>\n",
       "      <td>-80995</td>\n",
       "      <td>2011-12-09 09:27:00</td>\n",
       "      <td>2.080</td>\n",
       "      <td>16446</td>\n",
       "      <td>United Kingdom</td>\n",
       "      <td>-168469.600</td>\n",
       "    </tr>\n",
       "  </tbody>\n",
       "</table>\n",
       "</div>"
      ],
      "text/plain": [
       "       InvoiceNo StockCode                  Description  Quantity  \\\n",
       "401131    581483     23843  PAPER CRAFT   LITTLE BIRDIE     80995   \n",
       "401132   C581484     23843  PAPER CRAFT   LITTLE BIRDIE    -80995   \n",
       "\n",
       "               InvoiceDate  UnitPrice  CustomerID         Country     Invoice  \n",
       "401131 2011-12-09 09:15:00      2.080       16446  United Kingdom  168469.600  \n",
       "401132 2011-12-09 09:27:00      2.080       16446  United Kingdom -168469.600  "
      ]
     },
     "execution_count": 40,
     "metadata": {},
     "output_type": "execute_result"
    }
   ],
   "source": [
    "df.loc[(df.InvoiceNo == '581483')|(df.InvoiceNo == 'C581484')]"
   ]
  },
  {
   "cell_type": "markdown",
   "metadata": {},
   "source": [
    "Many typos in Quantity and UnitPrice, which were subsequently cancelled. Not all errors can be traced, though, like you can see above. "
   ]
  }
 ],
 "metadata": {
  "kernelspec": {
   "display_name": "Python 3",
   "language": "python",
   "name": "python3"
  },
  "language_info": {
   "codemirror_mode": {
    "name": "ipython",
    "version": 3
   },
   "file_extension": ".py",
   "mimetype": "text/x-python",
   "name": "python",
   "nbconvert_exporter": "python",
   "pygments_lexer": "ipython3",
   "version": "3.7.4"
  }
 },
 "nbformat": 4,
 "nbformat_minor": 2
}
